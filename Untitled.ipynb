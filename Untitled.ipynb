{
 "cells": [
  {
   "cell_type": "code",
   "execution_count": 1,
   "id": "f86240b3-797f-4930-bbf1-dad75d87eb15",
   "metadata": {},
   "outputs": [
    {
     "name": "stdout",
     "output_type": "stream",
     "text": [
      "             Movie_1  Movie_2  Movie_3  Movie_4  Movie_5  Movie_6  Movie_7  \\\n",
      "Customer_ID                                                                  \n",
      "0                  0        1        1        1        0        1        0   \n",
      "1                  1        1        1        0        1        1        1   \n",
      "2                  0        0        0        1        0        0        1   \n",
      "3                  1        0        1        1        0        0        0   \n",
      "4                  1        1        1        1        0        0        0   \n",
      "...              ...      ...      ...      ...      ...      ...      ...   \n",
      "95                 1        0        1        0        1        0        1   \n",
      "96                 0        1        0        1        1        0        1   \n",
      "97                 0        0        1        0        1        0        0   \n",
      "98                 1        0        1        1        1        1        0   \n",
      "99                 1        1        0        1        0        0        0   \n",
      "\n",
      "             Movie_8  Movie_9  Movie_10  ...  Movie_23  Movie_24  Movie_25  \\\n",
      "Customer_ID                              ...                                 \n",
      "0                  1        1         0  ...         0         0         1   \n",
      "1                  0        1         1  ...         0         0         0   \n",
      "2                  0        1         1  ...         1         0         1   \n",
      "3                  0        0         0  ...         1         1         1   \n",
      "4                  1        0         0  ...         0         0         1   \n",
      "...              ...      ...       ...  ...       ...       ...       ...   \n",
      "95                 1        0         0  ...         1         0         0   \n",
      "96                 0        0         1  ...         0         1         1   \n",
      "97                 0        0         0  ...         1         1         0   \n",
      "98                 1        1         1  ...         0         1         0   \n",
      "99                 1        1         1  ...         1         1         0   \n",
      "\n",
      "             Movie_26  Movie_27  Movie_28  Movie_29  Movie_30  Movie_31  \\\n",
      "Customer_ID                                                               \n",
      "0                   1         1         0         1         1         0   \n",
      "1                   1         1         0         1         1         0   \n",
      "2                   1         0         0         1         0         1   \n",
      "3                   1         0         0         1         0         1   \n",
      "4                   0         1         0         1         1         1   \n",
      "...               ...       ...       ...       ...       ...       ...   \n",
      "95                  0         1         0         0         0         0   \n",
      "96                  0         0         0         1         1         0   \n",
      "97                  0         1         1         1         0         1   \n",
      "98                  1         1         0         0         1         1   \n",
      "99                  1         0         1         1         1         1   \n",
      "\n",
      "             Movie_32  \n",
      "Customer_ID            \n",
      "0                   1  \n",
      "1                   0  \n",
      "2                   0  \n",
      "3                   0  \n",
      "4                   1  \n",
      "...               ...  \n",
      "95                  1  \n",
      "96                  1  \n",
      "97                  1  \n",
      "98                  1  \n",
      "99                  1  \n",
      "\n",
      "[100 rows x 32 columns]\n"
     ]
    }
   ],
   "source": [
    "import pandas as pd\n",
    "import numpy as np\n",
    "num_customers = 100\n",
    "num_movies = 32\n",
    "# Create a random binary matrix (0s and 1s)\n",
    "data = np.random.randint(0, 2, size=(num_customers, num_movies))\n",
    "\n",
    "# Create a Pandas DataFrame from the random data\n",
    "df = pd.DataFrame(data, columns=[f\"Movie_{i+1}\" for i in range(num_movies)])\n",
    "df.index.name = 'Customer_ID'\n",
    "print(df)\n"
   ]
  },
  {
   "cell_type": "code",
   "execution_count": 2,
   "id": "cfad4a02-230b-4e78-b397-9bb4a737ddfc",
   "metadata": {},
   "outputs": [
    {
     "name": "stdout",
     "output_type": "stream",
     "text": [
      "             Bit_String_1  Bit_String_2  Bit_String_3  Bit_String_4\n",
      "Customer_ID                                                        \n",
      "0                     117           133           156           237\n",
      "1                     238           231            84           108\n",
      "2                      18           224           238           202\n",
      "3                     176            13            63           202\n",
      "4                     241            41           248           175\n",
      "...                   ...           ...           ...           ...\n",
      "95                    171            21            22            33\n",
      "96                     90           116           177           141\n",
      "97                     40            60           179            59\n",
      "98                    189           228            37           103\n",
      "99                    209           253           135            95\n",
      "\n",
      "[100 rows x 4 columns]\n"
     ]
    },
    {
     "name": "stderr",
     "output_type": "stream",
     "text": [
      "/var/folders/qq/t11wtqvj3ms_7wcz936tk6xw0000gn/T/ipykernel_15057/2983322624.py:3: FutureWarning: Series.__getitem__ treating keys as positions is deprecated. In a future version, integer keys will always be treated as labels (consistent with DataFrame behavior). To access a value by position, use `ser.iloc[pos]`\n",
      "  bit_string = ''.join(str(row[i]) for i in range(start_index, start_index + num_columns))\n",
      "/var/folders/qq/t11wtqvj3ms_7wcz936tk6xw0000gn/T/ipykernel_15057/2983322624.py:3: FutureWarning: Series.__getitem__ treating keys as positions is deprecated. In a future version, integer keys will always be treated as labels (consistent with DataFrame behavior). To access a value by position, use `ser.iloc[pos]`\n",
      "  bit_string = ''.join(str(row[i]) for i in range(start_index, start_index + num_columns))\n",
      "/var/folders/qq/t11wtqvj3ms_7wcz936tk6xw0000gn/T/ipykernel_15057/2983322624.py:3: FutureWarning: Series.__getitem__ treating keys as positions is deprecated. In a future version, integer keys will always be treated as labels (consistent with DataFrame behavior). To access a value by position, use `ser.iloc[pos]`\n",
      "  bit_string = ''.join(str(row[i]) for i in range(start_index, start_index + num_columns))\n",
      "/var/folders/qq/t11wtqvj3ms_7wcz936tk6xw0000gn/T/ipykernel_15057/2983322624.py:3: FutureWarning: Series.__getitem__ treating keys as positions is deprecated. In a future version, integer keys will always be treated as labels (consistent with DataFrame behavior). To access a value by position, use `ser.iloc[pos]`\n",
      "  bit_string = ''.join(str(row[i]) for i in range(start_index, start_index + num_columns))\n"
     ]
    }
   ],
   "source": [
    "def createNum(row, start_index, num_columns):\n",
    "\n",
    "    bit_string = ''.join(str(row[i]) for i in range(start_index, start_index + num_columns))\n",
    "    \n",
    "    decimal_value = int(bit_string, 2)\n",
    "    \n",
    "    return decimal_value\n",
    "columns_per_bit_string = 8\n",
    "\n",
    "transformed_df = pd.DataFrame(index=df.index)\n",
    "\n",
    "for i in range(num_movies // columns_per_bit_string):\n",
    "    start_col = i * columns_per_bit_string\n",
    "    bit_string_name = f\"Bit_String_{i+1}\"\n",
    "    \n",
    "    transformed_df[bit_string_name] = df.apply(lambda row: createNum(row, start_col, columns_per_bit_string), axis=1)\n",
    "print(transformed_df)\n"
   ]
  },
  {
   "cell_type": "code",
   "execution_count": 4,
   "id": "3c6fdc4b-a517-4a9e-bd0d-baf8074e366e",
   "metadata": {},
   "outputs": [
    {
     "name": "stdout",
     "output_type": "stream",
     "text": [
      "Recommended Movies for Customer 27:\n",
      "['Movie_3', 'Movie_8', 'Movie_9', 'Movie_11', 'Movie_19', 'Movie_21']\n"
     ]
    }
   ],
   "source": [
    "def hamming_distance(customer1, customer2):\n",
    "    return np.sum(customer1 != customer2)\n",
    "    \n",
    "def find_similar_customers(target_customer_id, df):\n",
    "    target_customer = df.loc[target_customer_id]\n",
    "    distances = df.apply(lambda row: hamming_distance(target_customer, row), axis=1)\n",
    "    similar_customers = distances.sort_values().index.tolist()\n",
    "    similar_customers.remove(target_customer_id) \n",
    "    return similar_customers\n",
    "    \n",
    "def recommend_movies(target_customer_id, similar_customer_id, df):\n",
    "    target_customer_movies = df.loc[target_customer_id]\n",
    "    similar_customer_movies = df.loc[similar_customer_id]\n",
    "    recommended_movies = (similar_customer_movies == 1) & (target_customer_movies == 0)\n",
    "    recommended_movie_names = recommended_movies[recommended_movies].index.tolist()\n",
    "    \n",
    "    return recommended_movie_names\n",
    "similar_customers = find_similar_customers(27, df)\n",
    "\n",
    "most_similar_customer = similar_customers[0]\n",
    "\n",
    "recommended_movies = recommend_movies(27, most_similar_customer, df)\n",
    "\n",
    "print(\"Recommended Movies for Customer 27:\")\n",
    "print(recommended_movies)\n"
   ]
  },
  {
   "cell_type": "code",
   "execution_count": null,
   "id": "a270ca96-58f0-4227-82b4-b0f771b9f7e1",
   "metadata": {},
   "outputs": [],
   "source": []
  }
 ],
 "metadata": {
  "kernelspec": {
   "display_name": "Python 3 (ipykernel)",
   "language": "python",
   "name": "python3"
  },
  "language_info": {
   "codemirror_mode": {
    "name": "ipython",
    "version": 3
   },
   "file_extension": ".py",
   "mimetype": "text/x-python",
   "name": "python",
   "nbconvert_exporter": "python",
   "pygments_lexer": "ipython3",
   "version": "3.11.7"
  }
 },
 "nbformat": 4,
 "nbformat_minor": 5
}
