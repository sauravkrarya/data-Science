{
 "cells": [
  {
   "cell_type": "code",
   "execution_count": null,
   "id": "c81bd62e-da45-4902-960e-1e5f44cb08ee",
   "metadata": {},
   "outputs": [
    {
     "name": "stdout",
     "output_type": "stream",
     "text": [
      "enter a string gfgh\n"
     ]
    },
    {
     "name": "stdout",
     "output_type": "stream",
     "text": [
      "not palindrome\n"
     ]
    }
   ],
   "source": [
    "#Q2  Write a program to input a string and check whether it is palindrome or not\n",
    "\n",
    "a=input(\"enter a string\")\n",
    "if (a==a[::-1]):\n",
    "    print(\"palindrome\")\n",
    "else:\n",
    "    print(\"not palindrome\")\n"
   ]
  },
  {
   "cell_type": "code",
   "execution_count": 20,
   "id": "5d4baad2-d7dd-4a02-ae0d-491ba64bc2a1",
   "metadata": {},
   "outputs": [
    {
     "name": "stdout",
     "output_type": "stream",
     "text": [
      "Enter a string:   program to input a string and remove the duplicate words\n"
     ]
    },
    {
     "name": "stdout",
     "output_type": "stream",
     "text": [
      "Number of words in the string: 10\n"
     ]
    }
   ],
   "source": [
    "#Q3 Write a program to input a string and count the number of words in it\n",
    "\n",
    "\n",
    "def cw(s):\n",
    "    words = s.split()\n",
    "    return len(words)\n",
    "a = input(\"Enter a string: \")\n",
    "word_count = cw(a)\n",
    "print(\"Number of words in the string:\", word_count)\n"
   ]
  },
  {
   "cell_type": "code",
   "execution_count": 21,
   "id": "68ada2a7-807d-4e67-bba8-6b6b3f0b2d9d",
   "metadata": {},
   "outputs": [
    {
     "name": "stdout",
     "output_type": "stream",
     "text": [
      "enter a string hii hii hiii saurav saurav\n"
     ]
    },
    {
     "name": "stdout",
     "output_type": "stream",
     "text": [
      "hiiihiisaurav\n"
     ]
    }
   ],
   "source": [
    "#Q4 Write a program to input a string and remove the duplicate words\n",
    "\n",
    "s=input(\"enter a string\")\n",
    "s1=''\n",
    "words=s.split()\n",
    "w=set(words)\n",
    "s1=''.join(w)\n",
    "print(s1)"
   ]
  },
  {
   "cell_type": "code",
   "execution_count": 1,
   "id": "71267121-6785-482b-a37c-a71610ed67ad",
   "metadata": {},
   "outputs": [
    {
     "name": "stdout",
     "output_type": "stream",
     "text": [
      "common element [44, 44, 6]\n"
     ]
    }
   ],
   "source": [
    "#Q5 Write a Python program to find the common elements between two lists.\n",
    "\n",
    "\n",
    "l1=[1,2,3,44,44,5,6]\n",
    "l2=[9,8,6,4,33,44,6]\n",
    "c_e=[element for element in l1 if element in l2]\n",
    "print(\"common element\",c_e)\n",
    "\n"
   ]
  },
  {
   "cell_type": "code",
   "execution_count": 5,
   "id": "de53220f-a99e-4b57-9caf-77a2369ed000",
   "metadata": {},
   "outputs": [
    {
     "name": "stdout",
     "output_type": "stream",
     "text": [
      "[8, 2, 3, 45, 6, 1]\n"
     ]
    }
   ],
   "source": [
    "#Q6  Write a Python program to interchange first and last elements in a list\n",
    "\n",
    "\n",
    "def interchange(list):\n",
    "    if len(list)>2:\n",
    "        list[0],list[-1]=list[-1],list[0]\n",
    "l=[1,2,3,45,6,8]\n",
    "interchange(l)\n",
    "print(l)\n"
   ]
  },
  {
   "cell_type": "code",
   "execution_count": 2,
   "id": "8ff9fdbd-44f4-48b6-b6c7-57fd40094acc",
   "metadata": {},
   "outputs": [
    {
     "name": "stdout",
     "output_type": "stream",
     "text": [
      "[1 2 3 4 5]\n"
     ]
    }
   ],
   "source": [
    "#Q7(a) Write a Python Program to create an 1D array with 5 elements\n",
    "\n",
    "import numpy as np\n",
    "a= np.array([1, 2, 3, 4, 5])\n",
    "print(a)\n"
   ]
  },
  {
   "cell_type": "code",
   "execution_count": 8,
   "id": "f2872b66-dfa1-447e-9750-3f228e4ca49a",
   "metadata": {},
   "outputs": [
    {
     "name": "stdout",
     "output_type": "stream",
     "text": [
      "2D Array with dimensions 3x3:\n",
      "[[1 2 3]\n",
      " [4 5 6]\n",
      " [7 8 9]]\n"
     ]
    }
   ],
   "source": [
    "#Q7(b)  Write a Python Program to create an 2D array with dimension 3,3\n",
    "\n",
    "import numpy as np\n",
    "a = np.array([[1, 2, 3],\n",
    "                     [4, 5, 6],\n",
    "                     [7, 8, 9]])\n",
    "print(\"2D Array with dimensions 3x3:\")\n",
    "print(a)\n",
    "\n"
   ]
  },
  {
   "cell_type": "code",
   "execution_count": 12,
   "id": "8ea993f5-9d2a-4a74-a7d0-6d630e90b2e3",
   "metadata": {},
   "outputs": [
    {
     "name": "stdout",
     "output_type": "stream",
     "text": [
      "First array:\n",
      "[[1 2 3]\n",
      " [4 5 6]\n",
      " [7 8 9]]\n",
      "\n",
      "Second array:\n",
      "[[9 8 7]\n",
      " [6 5 4]\n",
      " [3 2 1]]\n",
      "\n",
      "Sum of the two arrays:\n",
      "[[10 10 10]\n",
      " [10 10 10]\n",
      " [10 10 10]]\n"
     ]
    }
   ],
   "source": [
    "#Q8(a) Write a Python Program to add two arrays each of dimension 3,3\n",
    "\n",
    "import numpy as np\n",
    "a1 = np.array([[1, 2, 3],\n",
    "                   [4, 5, 6],\n",
    "                   [7, 8, 9]])\n",
    "a2 = np.array([[9, 8, 7],\n",
    "                   [6, 5, 4],\n",
    "                   [3, 2, 1]])\n",
    "sum_array = a1 + a2\n",
    "print(\"First array:\")\n",
    "print(a1)\n",
    "print(\"\\nSecond array:\")\n",
    "print(a2)\n",
    "print(\"\\nSum of the two arrays:\")\n",
    "print(sum_array)\n"
   ]
  },
  {
   "cell_type": "code",
   "execution_count": 1,
   "id": "851a20df-74f1-4e72-a7e0-0c6069035abf",
   "metadata": {},
   "outputs": [
    {
     "name": "stdout",
     "output_type": "stream",
     "text": [
      "[[10 10 10]\n",
      " [ 7  7  7]\n",
      " [ 4  4  4]]\n"
     ]
    }
   ],
   "source": [
    "#Q8(b)Write a Python Program to add one vector(1d array with 3 elements) with an array of dimension 3,3\n",
    "\n",
    "import numpy as np\n",
    "a1=np.array([1,2,3])\n",
    "a2=np.array([[9, 8, 7],\n",
    "             [6, 5, 4],\n",
    "             [3, 2, 1]])\n",
    "res=np.add(a1,a2)\n",
    "print(res)"
   ]
  },
  {
   "cell_type": "code",
   "execution_count": 5,
   "id": "11a26eb7-cef4-4315-a234-a76a880e8263",
   "metadata": {},
   "outputs": [
    {
     "name": "stdout",
     "output_type": "stream",
     "text": [
      "Result of multiply the two array\n",
      "[[  1   4   9  16]\n",
      " [ 16  25  36  49]\n",
      " [ 64  81 100 121]\n",
      " [144 169 196 225]]\n"
     ]
    }
   ],
   "source": [
    "#Q9 Write a Python Program to multiply 2 arrays each of dimension 4,4\n",
    "\n",
    "\n",
    "import numpy as np\n",
    "a1=np.array([[1,2,3,4],\n",
    "            [4,5,6,7],\n",
    "            [8,9,10,11],\n",
    "            [12,13,14,15]])\n",
    "a2=np.array([[1,2,3,4],\n",
    "            [4,5,6,7],\n",
    "            [8,9,10,11],\n",
    "            [12,13,14,15]])\n",
    "result=np.multiply(a1,a2)\n",
    "print(\"Result of multiply the two array\")\n",
    "print(result)"
   ]
  },
  {
   "cell_type": "code",
   "execution_count": 11,
   "id": "d1c230b2-b7ba-46c8-8433-662ff474e7d3",
   "metadata": {},
   "outputs": [
    {
     "name": "stdout",
     "output_type": "stream",
     "text": [
      "Resultant matrix\n",
      "[ 95 110]\n"
     ]
    }
   ],
   "source": [
    "#Q10 Write a Python Program to multiply a vector(5 elements) with an array(dimension 5,2)\n",
    "#      using numpy.dot(arra,arrb) and find the dimension of the resultant matrix\n",
    "\n",
    "\n",
    "import numpy as np\n",
    "vector=np.array([1,2,3,4,5])\n",
    "array=np.array([[1,2],\n",
    "                [3,4],\n",
    "                [5,6],\n",
    "                [7,8],\n",
    "                [9,10]])\n",
    "result=np.dot(vector,array)\n",
    "\n",
    "print(\"Resultant matrix\")\n",
    "print(result)\n",
    "\n",
    "\n"
   ]
  },
  {
   "cell_type": "code",
   "execution_count": null,
   "id": "43816b77-845f-4323-bbc0-d7201780af9a",
   "metadata": {},
   "outputs": [],
   "source": []
  }
 ],
 "metadata": {
  "kernelspec": {
   "display_name": "Python 3 (ipykernel)",
   "language": "python",
   "name": "python3"
  },
  "language_info": {
   "codemirror_mode": {
    "name": "ipython",
    "version": 3
   },
   "file_extension": ".py",
   "mimetype": "text/x-python",
   "name": "python",
   "nbconvert_exporter": "python",
   "pygments_lexer": "ipython3",
   "version": "3.11.7"
  }
 },
 "nbformat": 4,
 "nbformat_minor": 5
}
