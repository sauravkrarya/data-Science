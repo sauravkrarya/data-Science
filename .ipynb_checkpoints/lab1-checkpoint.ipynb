{
 "cells": [
  {
   "cell_type": "code",
   "execution_count": 6,
   "id": "c81bd62e-da45-4902-960e-1e5f44cb08ee",
   "metadata": {},
   "outputs": [
    {
     "name": "stdin",
     "output_type": "stream",
     "text": [
      "enter a string gfgh\n"
     ]
    },
    {
     "name": "stdout",
     "output_type": "stream",
     "text": [
      "not palindrome\n"
     ]
    }
   ],
   "source": [
    "#Q2  Write a program to input a string and check whether it is palindrome or not\n",
    "\n",
    "a=input(\"enter a string\")\n",
    "if (a==a[::-1]):\n",
    "    print(\"palindrome\")\n",
    "else:\n",
    "    print(\"not palindrome\")\n",
    "\n",
    "\n",
    "# def is_palindrome(s):\n",
    "#     clean_s = ''.join(char.lower() for char in s if char.isalnum())\n",
    "#     return clean_s == clean_s[::-1]\n",
    "# input_string = input(\"Enter a string: \")\n",
    "# if is_palindrome(input_string):\n",
    "#     print(\"The string is a palindrome.\")\n",
    "# else:\n",
    "#     print(\"The string is not a palindrome.\")\n"
   ]
  },
  {
   "cell_type": "code",
   "execution_count": 20,
   "id": "5d4baad2-d7dd-4a02-ae0d-491ba64bc2a1",
   "metadata": {},
   "outputs": [
    {
     "name": "stdin",
     "output_type": "stream",
     "text": [
      "Enter a string:   program to input a string and remove the duplicate words\n"
     ]
    },
    {
     "name": "stdout",
     "output_type": "stream",
     "text": [
      "Number of words in the string: 10\n"
     ]
    }
   ],
   "source": [
    "#Q3 Write a program to input a string and count the number of words in it\n",
    "\n",
    "\n",
    "def cw(s):\n",
    "    words = s.split()\n",
    "    return len(words)\n",
    "a = input(\"Enter a string: \")\n",
    "word_count = cw(a)\n",
    "print(\"Number of words in the string:\", word_count)\n"
   ]
  },
  {
   "cell_type": "code",
   "execution_count": 21,
   "id": "68ada2a7-807d-4e67-bba8-6b6b3f0b2d9d",
   "metadata": {},
   "outputs": [
    {
     "name": "stdin",
     "output_type": "stream",
     "text": [
      "enter a string hii hii hiii saurav saurav\n"
     ]
    },
    {
     "name": "stdout",
     "output_type": "stream",
     "text": [
      "hiiihiisaurav\n"
     ]
    }
   ],
   "source": [
    "#Q4 Write a program to input a string and remove the duplicate words\n",
    "\n",
    "\n",
    "\n",
    "s=input(\"enter a string\")\n",
    "s1=''\n",
    "words=s.split()\n",
    "w=set(words)\n",
    "s1=''.join(w)\n",
    "print(s1)\n",
    "\n",
    "\n",
    "# def remove_duplicate_words(s):\n",
    "#     words = s.split()\n",
    "#     unique_words = set()\n",
    "#     for word in words:\n",
    "#         unique_words.add(word)\n",
    "#     result = ' '.join(unique_words)\n",
    "#     return result\n",
    "# input_string = input(\"Enter a string: \")\n",
    "# result_string = remove_duplicate_words(input_string)\n",
    "# print(\"String after removing duplicate words:\", result_string)\n",
    "\n"
   ]
  },
  {
   "cell_type": "code",
   "execution_count": null,
   "id": "71267121-6785-482b-a37c-a71610ed67ad",
   "metadata": {},
   "outputs": [],
   "source": [
    "#Q5 Write a Python program to find the common elements between two lists.\n",
    "\n",
    "\n",
    "l1=[1,2,3,44,44,5,6]\n",
    "l2=[9,8,6,4,33,44,6]\n",
    "c_e=[element for element in l1 if element in l2]\n",
    "print(\"common element\",c_e)\n",
    "\n",
    "\n",
    "\n",
    "# def find_common_elements(list1, list2):\n",
    "#     set1 = set(list1)\n",
    "#     set2 = set(list2)\n",
    "#     common_elements = set1.intersection(set2)\n",
    "#     return list(common_elements)\n",
    "\n",
    "# # Example lists\n",
    "# list1 = [1, 2, 3, 4, 5]\n",
    "# list2 = [4, 5, 6, 7, 8]\n",
    "# common_elements = find_common_elements(list1, list2)\n",
    "# print(\"Common elements between the two lists:\", common_elements)\n"
   ]
  },
  {
   "cell_type": "code",
   "execution_count": null,
   "id": "de53220f-a99e-4b57-9caf-77a2369ed000",
   "metadata": {},
   "outputs": [],
   "source": [
    "#Q6  Write a Python program to interchange first and last elements in a list\n",
    "\n",
    "def interchange_first_last(lst):\n",
    "    if len(lst) < 2:\n",
    "        return lst  # If the list has less than two elements, no interchange is possible\n",
    "\n",
    "    # Swap the first and last elements\n",
    "    lst[0], lst[-1] = lst[-1], lst[0]\n",
    "    return lst\n",
    "my_list = [1, 2, 3, 4, 5]\n",
    "\n",
    "\n",
    "interchanged_list = interchange_first_last(my_list.copy())  # Create a copy to keep the original list unchanged\n",
    "\n",
    "print(\"Original list:\", my_list)\n",
    "print(\"List after interchanging first and last elements:\", interchanged_list)\n"
   ]
  },
  {
   "cell_type": "code",
   "execution_count": 4,
   "id": "8ff9fdbd-44f4-48b6-b6c7-57fd40094acc",
   "metadata": {},
   "outputs": [
    {
     "name": "stdout",
     "output_type": "stream",
     "text": [
      "1D Array with 5 elements: [1 2 3 4 5]\n"
     ]
    }
   ],
   "source": [
    "#Q7 Write a Python Program to create an 1D array with 5 elements\n",
    "\n",
    "import numpy as np\n",
    "array_1d = np.array([1, 2, 3, 4, 5])\n",
    "print(\"1D Array with 5 elements:\", array_1d)\n"
   ]
  },
  {
   "cell_type": "code",
   "execution_count": 5,
   "id": "f2872b66-dfa1-447e-9750-3f228e4ca49a",
   "metadata": {},
   "outputs": [
    {
     "name": "stdout",
     "output_type": "stream",
     "text": [
      "2D Array with dimensions 3x3:\n",
      "[[1 2 3]\n",
      " [4 5 6]\n",
      " [7 8 9]]\n"
     ]
    }
   ],
   "source": [
    "#Q7(2)  Write a Python Program to create an 2D array with dimension 3,3\n",
    "\n",
    "import numpy as np\n",
    "\n",
    "# Create a 2D array with dimensions 3x3\n",
    "array_2d = np.array([[1, 2, 3],\n",
    "                     [4, 5, 6],\n",
    "                     [7, 8, 9]])\n",
    "\n",
    "print(\"2D Array with dimensions 3x3:\")\n",
    "print(array_2d)\n",
    "\n"
   ]
  },
  {
   "cell_type": "code",
   "execution_count": 6,
   "id": "8ea993f5-9d2a-4a74-a7d0-6d630e90b2e3",
   "metadata": {},
   "outputs": [
    {
     "name": "stdout",
     "output_type": "stream",
     "text": [
      "First array:\n",
      "[[1 2 3]\n",
      " [4 5 6]\n",
      " [7 8 9]]\n",
      "\n",
      "Second array:\n",
      "[[9 8 7]\n",
      " [6 5 4]\n",
      " [3 2 1]]\n",
      "\n",
      "Sum of the two arrays:\n",
      "[[10 10 10]\n",
      " [10 10 10]\n",
      " [10 10 10]]\n"
     ]
    }
   ],
   "source": [
    "#Q8 Write a Python Program to add two arrays each of dimension 3,3\n",
    "\n",
    "import numpy as np\n",
    "\n",
    "# Define the first 3x3 array\n",
    "array1 = np.array([[1, 2, 3],\n",
    "                   [4, 5, 6],\n",
    "                   [7, 8, 9]])\n",
    "\n",
    "# Define the second 3x3 array\n",
    "array2 = np.array([[9, 8, 7],\n",
    "                   [6, 5, 4],\n",
    "                   [3, 2, 1]])\n",
    "\n",
    "# Add the two arrays element-wise\n",
    "sum_array = array1 + array2\n",
    "\n",
    "print(\"First array:\")\n",
    "print(array1)\n",
    "print(\"\\nSecond array:\")\n",
    "print(array2)\n",
    "print(\"\\nSum of the two arrays:\")\n",
    "print(sum_array)\n"
   ]
  },
  {
   "cell_type": "code",
   "execution_count": 5,
   "id": "4a9d6d05-cd58-4796-9d23-b4948f900eee",
   "metadata": {},
   "outputs": [
    {
     "name": "stdout",
     "output_type": "stream",
     "text": [
      "Original 3x3 array:\n",
      "[[1 2 3]\n",
      " [4 5 6]\n",
      " [7 8 9]]\n",
      "\n",
      "Vector (1D array with 3 elements):\n",
      "[1 2 3]\n",
      "\n",
      "Broadcasted vector to match the shape of the 3x3 array:\n",
      "[[1 2 3]\n",
      " [1 2 3]\n",
      " [1 2 3]]\n",
      "\n",
      "Sum of the broadcasted vector and the 3x3 array:\n",
      "[[ 2  4  6]\n",
      " [ 5  7  9]\n",
      " [ 8 10 12]]\n"
     ]
    }
   ],
   "source": [
    "#Q8(2)  Write a Python Program to add one vector(1d array with 3 elements) with an array of dimension 3,3\n",
    "\n",
    "import numpy as np\n",
    "vector = np.array([1, 2, 3])\n",
    "\n",
    "# Define the 3x3 array\n",
    "array_3x3 = np.array([[1, 2, 3],\n",
    "                      [4, 5, 6],\n",
    "                      [7, 8, 9]])\n",
    "broadcasted_vector = np.tile(vector, (3, 1))\n",
    "sum_array = broadcasted_vector + array_3x3\n",
    "\n",
    "print(\"Original 3x3 array:\")\n",
    "print(array_3x3)\n",
    "print(\"\\nVector (1D array with 3 elements):\")\n",
    "print(vector)\n",
    "print(\"\\nBroadcasted vector to match the shape of the 3x3 array:\")\n",
    "\n",
    "print(broadcasted_vector)\n",
    "print(\"\\nSum of the broadcasted vector and the 3x3 array:\")\n",
    "print(sum_array)\n"
   ]
  },
  {
   "cell_type": "code",
   "execution_count": 14,
   "id": "b69b428e-ca66-4427-80c3-5f9dd509b050",
   "metadata": {},
   "outputs": [
    {
     "name": "stdin",
     "output_type": "stream",
     "text": [
      "enter a string gfh\n"
     ]
    },
    {
     "ename": "NameError",
     "evalue": "name 'false' is not defined",
     "output_type": "error",
     "traceback": [
      "\u001b[0;31m---------------------------------------------------------------------------\u001b[0m",
      "\u001b[0;31mNameError\u001b[0m                                 Traceback (most recent call last)",
      "Cell \u001b[0;32mIn[14], line 8\u001b[0m\n\u001b[1;32m      6\u001b[0m     \u001b[38;5;28;01mreturn\u001b[39;00m true\n\u001b[1;32m      7\u001b[0m a\u001b[38;5;241m=\u001b[39m\u001b[38;5;28minput\u001b[39m(\u001b[38;5;124m\"\u001b[39m\u001b[38;5;124menter a string\u001b[39m\u001b[38;5;124m\"\u001b[39m)\n\u001b[0;32m----> 8\u001b[0m \u001b[38;5;28;01mif\u001b[39;00m palindrome(a):\n\u001b[1;32m      9\u001b[0m          \u001b[38;5;28mprint\u001b[39m(\u001b[38;5;124m\"\u001b[39m\u001b[38;5;124mpalindrome\u001b[39m\u001b[38;5;124m\"\u001b[39m)\n\u001b[1;32m     10\u001b[0m \u001b[38;5;28;01melse\u001b[39;00m:\n",
      "Cell \u001b[0;32mIn[14], line 5\u001b[0m, in \u001b[0;36mpalindrome\u001b[0;34m(s)\u001b[0m\n\u001b[1;32m      3\u001b[0m \u001b[38;5;28;01mfor\u001b[39;00m i \u001b[38;5;129;01min\u001b[39;00m \u001b[38;5;28mrange\u001b[39m(l\u001b[38;5;241m/\u001b[39m\u001b[38;5;241m/\u001b[39m\u001b[38;5;241m2\u001b[39m):\n\u001b[1;32m      4\u001b[0m     \u001b[38;5;28;01mif\u001b[39;00m s[i]\u001b[38;5;241m!=\u001b[39ms[l\u001b[38;5;241m-\u001b[39mi\u001b[38;5;241m-\u001b[39m\u001b[38;5;241m1\u001b[39m]:\n\u001b[0;32m----> 5\u001b[0m         \u001b[38;5;28;01mreturn\u001b[39;00m false\n\u001b[1;32m      6\u001b[0m \u001b[38;5;28;01mreturn\u001b[39;00m true\n",
      "\u001b[0;31mNameError\u001b[0m: name 'false' is not defined"
     ]
    }
   ],
   "source": [
    "def palindrome(s):\n",
    "    l=len(s)\n",
    "    for i in range(l//2):\n",
    "        if s[i]!=s[l-i-1]:\n",
    "            return false\n",
    "    return true\n",
    "a=input(\"enter a string\")\n",
    "if palindrome(a):\n",
    "         print(\"palindrome\")\n",
    "else:\n",
    "         print(\"not palindrome\")"
   ]
  },
  {
   "cell_type": "code",
   "execution_count": null,
   "id": "3a7fb002-c8f7-4738-9a92-bd712b38ed41",
   "metadata": {},
   "outputs": [],
   "source": []
  },
  {
   "cell_type": "code",
   "execution_count": null,
   "id": "04ea1b00-78fe-4b94-b333-98832e05c99e",
   "metadata": {},
   "outputs": [],
   "source": []
  }
 ],
 "metadata": {
  "kernelspec": {
   "display_name": "Python 3 (ipykernel)",
   "language": "python",
   "name": "python3"
  },
  "language_info": {
   "codemirror_mode": {
    "name": "ipython",
    "version": 3
   },
   "file_extension": ".py",
   "mimetype": "text/x-python",
   "name": "python",
   "nbconvert_exporter": "python",
   "pygments_lexer": "ipython3",
   "version": "3.11.7"
  }
 },
 "nbformat": 4,
 "nbformat_minor": 5
}
