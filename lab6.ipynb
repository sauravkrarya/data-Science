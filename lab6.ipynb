{
 "cells": [
  {
   "cell_type": "code",
   "execution_count": 25,
   "id": "328cf2fb-15e5-486e-9875-ae65b5f82330",
   "metadata": {},
   "outputs": [
    {
     "name": "stdout",
     "output_type": "stream",
     "text": [
      "   sepal length (cm)  sepal width (cm)  petal length (cm)  petal width (cm)  \\\n",
      "0                5.1               3.5                1.4               0.2   \n",
      "1                4.9               3.0                1.4               0.2   \n",
      "2                4.7               3.2                1.3               0.2   \n",
      "3                4.6               3.1                1.5               0.2   \n",
      "4                5.0               3.6                1.4               0.2   \n",
      "\n",
      "   target  \n",
      "0       0  \n",
      "1       0  \n",
      "2       0  \n",
      "3       0  \n",
      "4       0  \n"
     ]
    }
   ],
   "source": [
    "#Q1 download iris data set from kaggle or Import the dataset from sklearn\n",
    "\n",
    "from sklearn.datasets import load_iris\n",
    "import pandas as pd\n",
    "iris = load_iris()\n",
    "iris_df = pd.DataFrame(data=iris.data, columns=iris.feature_names)\n",
    "iris_df['target'] = iris.target\n",
    "print(iris_df.head())\n"
   ]
  },
  {
   "cell_type": "code",
   "execution_count": 26,
   "id": "2b12fc17-42aa-41b5-a2a7-6aada37eb801",
   "metadata": {},
   "outputs": [
    {
     "name": "stdout",
     "output_type": "stream",
     "text": [
      "   sepal length (cm)  sepal width (cm)  petal length (cm)  petal width (cm)  \\\n",
      "0                5.1               3.5                1.4               0.2   \n",
      "1                4.9               3.0                1.4               0.2   \n",
      "2                4.7               3.2                1.3               0.2   \n",
      "3                4.6               3.1                1.5               0.2   \n",
      "4                5.0               3.6                1.4               0.2   \n",
      "\n",
      "  species  \n",
      "0  setosa  \n",
      "1  setosa  \n",
      "2  setosa  \n",
      "3  setosa  \n",
      "4  setosa  \n"
     ]
    }
   ],
   "source": [
    "#Q2 create a dataframe with the iris data and columns as feature_names\n",
    "\n",
    "import pandas as pd\n",
    "from sklearn.datasets import load_iris\n",
    "\n",
    "# Load the Iris dataset\n",
    "iris = load_iris()\n",
    "\n",
    "# Create a DataFrame with feature_names as column names\n",
    "iris_df = pd.DataFrame(data=iris.data, columns=iris.feature_names)\n",
    "\n",
    "# Add the target variable 'species' to the DataFrame\n",
    "iris_df['species'] = iris.target  # 0:setosa, 1:versicolor, 2:virginica\n",
    "\n",
    "# Map numerical target to actual species names\n",
    "iris_df['species'] = iris_df['species'].map({0: 'setosa', 1: 'versicolor', 2: 'virginica'})\n",
    "\n",
    "# Display the first few rows of the DataFrame\n",
    "print(iris_df.head())\n"
   ]
  },
  {
   "cell_type": "code",
   "execution_count": 27,
   "id": "4a77a8d1-321d-4178-b9f3-04b11b2f265e",
   "metadata": {},
   "outputs": [
    {
     "name": "stdout",
     "output_type": "stream",
     "text": [
      "Shape of X: (150, 4)\n",
      "Shape of y: (150,)\n",
      "Shape of X_train: (120, 4)\n",
      "Shape of X_test: (30, 4)\n",
      "Shape of y_train: (120,)\n",
      "Shape of y_test: (30,)\n"
     ]
    }
   ],
   "source": [
    "#Q3 Set 2 variables as predictors with the values of 'sepal_length', 'sepal_width', 'petal_length',\n",
    "#    'petal_width' and target with the values of 'species'\n",
    "\n",
    "import pandas as pd\n",
    "from sklearn.datasets import load_iris\n",
    "from sklearn.model_selection import train_test_split\n",
    "\n",
    "# Load the Iris dataset\n",
    "iris = load_iris()\n",
    "\n",
    "# Create a DataFrame with feature_names as column names\n",
    "iris_df = pd.DataFrame(data=iris.data, columns=iris.feature_names)\n",
    "\n",
    "# Add the target variable 'species' to the DataFrame\n",
    "iris_df['species'] = iris.target  # 0:setosa, 1:versicolor, 2:virginica\n",
    "\n",
    "# Define X (predictors) and y (target)\n",
    "X = iris_df[['sepal length (cm)', 'sepal width (cm)', 'petal length (cm)', 'petal width (cm)']]\n",
    "y = iris_df['species']\n",
    "\n",
    "# Display the shape of X and y\n",
    "print(\"Shape of X:\", X.shape)\n",
    "print(\"Shape of y:\", y.shape)\n",
    "\n",
    "# Split the data into training and testing sets\n",
    "X_train, X_test, y_train, y_test = train_test_split(X, y, test_size=0.2, random_state=42)\n",
    "\n",
    "# Display the shape of training and testing sets\n",
    "print(\"Shape of X_train:\", X_train.shape)\n",
    "print(\"Shape of X_test:\", X_test.shape)\n",
    "print(\"Shape of y_train:\", y_train.shape)\n",
    "print(\"Shape of y_test:\", y_test.shape)\n"
   ]
  },
  {
   "cell_type": "code",
   "execution_count": 28,
   "id": "88abf7cf-0faa-483c-b04f-9f4a0f72d132",
   "metadata": {},
   "outputs": [
    {
     "name": "stdout",
     "output_type": "stream",
     "text": [
      "Accuracy of k-NN classifier with 3 neighbors: 1.00\n"
     ]
    }
   ],
   "source": [
    "#Q4  import KNeighborsClassifier and build a classification model with 3 neighbours. The predictors will\n",
    "#    be the input variable and target will be the output variable\n",
    "\n",
    "import pandas as pd\n",
    "from sklearn.datasets import load_iris\n",
    "from sklearn.model_selection import train_test_split\n",
    "from sklearn.neighbors import KNeighborsClassifier\n",
    "from sklearn.metrics import accuracy_score\n",
    "\n",
    "# Load the Iris dataset\n",
    "iris = load_iris()\n",
    "\n",
    "# Create a DataFrame with feature_names as column names\n",
    "iris_df = pd.DataFrame(data=iris.data, columns=iris.feature_names)\n",
    "\n",
    "# Add the target variable 'species' to the DataFrame\n",
    "iris_df['species'] = iris.target  # 0:setosa, 1:versicolor, 2:virginica\n",
    "\n",
    "# Define X (predictors) and y (target)\n",
    "X = iris_df[['sepal length (cm)', 'sepal width (cm)', 'petal length (cm)', 'petal width (cm)']]\n",
    "y = iris_df['species']\n",
    "\n",
    "# Split the data into training and testing sets\n",
    "X_train, X_test, y_train, y_test = train_test_split(X, y, test_size=0.2, random_state=42)\n",
    "\n",
    "# Initialize the k-NN classifier with 3 neighbors\n",
    "knn = KNeighborsClassifier(n_neighbors=3)\n",
    "\n",
    "# Train the classifier\n",
    "knn.fit(X_train, y_train)\n",
    "\n",
    "# Make predictions on the test data\n",
    "y_pred = knn.predict(X_test)\n",
    "\n",
    "# Evaluate the accuracy of the model\n",
    "accuracy = accuracy_score(y_test, y_pred)\n",
    "print(f'Accuracy of k-NN classifier with 3 neighbors: {accuracy:.2f}')\n"
   ]
  },
  {
   "cell_type": "code",
   "execution_count": 29,
   "id": "d96692da-a11b-4cc7-aca8-3bb89d3f2c08",
   "metadata": {},
   "outputs": [
    {
     "name": "stdout",
     "output_type": "stream",
     "text": [
      "Accuracy score of the k-NN classifier with 3 neighbors: 1.00\n"
     ]
    }
   ],
   "source": [
    "#Q5 find the accuracy score of the model\n",
    "\n",
    "\n",
    "print(f'Accuracy score of the k-NN classifier with 3 neighbors: {accuracy:.2f}')\n"
   ]
  },
  {
   "cell_type": "code",
   "execution_count": 32,
   "id": "3935b6ca-c653-4ee1-aea2-85b8d5e9224e",
   "metadata": {},
   "outputs": [
    {
     "data": {
      "image/png": "[encoded data removed]",
      "text/plain": [
       "<Figure size 800x600 with 2 Axes>"
      ]
     },
     "metadata": {},
     "output_type": "display_data"
    }
   ],
   "source": [
    "#Q6  build the confusion matrix\n",
    "\n",
    "# import pandas as pd\n",
    "# from sklearn.datasets import load_iris\n",
    "# from sklearn.model_selection import train_test_split\n",
    "# from sklearn.neighbors import KNeighborsClassifier\n",
    "# from sklearn.metrics import accuracy_score, confusion_matrix\n",
    "# import seaborn as sns\n",
    "# import matplotlib.pyplot as plt\n",
    "\n",
    "# # Load the Iris dataset\n",
    "# iris = load_iris()\n",
    "\n",
    "# # Create a DataFrame with feature_names as column names\n",
    "# iris_df = pd.DataFrame(data=iris.data, columns=iris.feature_names)\n",
    "\n",
    "# # Add the target variable 'species' to the DataFrame\n",
    "# iris_df['species'] = iris.target  # 0:setosa, 1:versicolor, 2:virginica\n",
    "\n",
    "# # Define X (predictors) and y (target)\n",
    "# X = iris_df[['sepal length (cm)', 'sepal width (cm)', 'petal length (cm)', 'petal width (cm)']]\n",
    "# y = iris_df['species']\n",
    "\n",
    "# # Split the data into training and testing sets\n",
    "# X_train, X_test, y_train, y_test = train_test_split(X, y, test_size=0.2, random_state=42)\n",
    "\n",
    "# # Initialize the k-NN classifier with 3 neighbors\n",
    "# knn = KNeighborsClassifier(n_neighbors=3)\n",
    "\n",
    "# # Train the classifier\n",
    "# knn.fit(X_train, y_train)\n",
    "\n",
    "# # Make predictions on the test data\n",
    "# y_pred = knn.predict(X_test)\n",
    "\n",
    "# # Evaluate the accuracy of the model\n",
    "# accuracy = accuracy_score(y_test, y_pred)\n",
    "# print(f'Accuracy score of the k-NN classifier with 3 neighbors: {accuracy:.2f}')\n",
    "\n",
    "# Build confusion matrix\n",
    "cm = confusion_matrix(y_test, y_pred)\n",
    "\n",
    "# Create a DataFrame for the confusion matrix\n",
    "cm_df = pd.DataFrame(cm, index=iris.target_names, columns=iris.target_names)\n",
    "\n",
    "# Plot the confusion matrix\n",
    "plt.figure(figsize=(8, 6))\n",
    "sns.heatmap(cm_df, annot=True, cmap='Blues', fmt='d', annot_kws={'size': 16})\n",
    "plt.title('Confusion Matrix', fontsize=16)\n",
    "plt.xlabel('Predicted', fontsize=14)\n",
    "plt.ylabel('Actual', fontsize=14)\n",
    "plt.show()\n"
   ]
  },
  {
   "cell_type": "code",
   "execution_count": 36,
   "id": "952013af-efbe-4b50-9f58-02dc1f65f4f9",
   "metadata": {},
   "outputs": [
    {
     "name": "stdout",
     "output_type": "stream",
     "text": [
      "Number of samples: 1797\n",
      "Number of features per sample: 64\n"
     ]
    },
    {
     "data": {
      "image/png": "[encoded data removed]",
      "text/plain": [
       "<Figure size 800x800 with 10 Axes>"
      ]
     },
     "metadata": {},
     "output_type": "display_data"
    },
    {
     "name": "stdout",
     "output_type": "stream",
     "text": [
      "Accuracy score of the k-NN classifier on MNIST digits dataset: 0.9833\n"
     ]
    },
    {
     "data": {
      "image/png": "[encoded data removed]",
      "text/plain": [
       "<Figure size 800x800 with 2 Axes>"
      ]
     },
     "metadata": {},
     "output_type": "display_data"
    }
   ],
   "source": [
    "#Q7 Download mnist digit dataset from kaggle or import load_digits from sklearn\n",
    "\n",
    "import numpy as np\n",
    "import pandas as pd\n",
    "import matplotlib.pyplot as plt\n",
    "from sklearn.datasets import load_digits\n",
    "from sklearn.model_selection import train_test_split\n",
    "from sklearn.neighbors import KNeighborsClassifier\n",
    "from sklearn.metrics import accuracy_score, confusion_matrix\n",
    "\n",
    "# Load the MNIST digits dataset\n",
    "digits = load_digits()\n",
    "\n",
    "# Access the data and target (labels)\n",
    "X = digits.data\n",
    "y = digits.target\n",
    "\n",
    "# Display the dimensions of the dataset\n",
    "print(f\"Number of samples: {X.shape[0]}\")\n",
    "print(f\"Number of features per sample: {X.shape[1]}\")\n",
    "\n",
    "# Visualize a few example digits\n",
    "plt.figure(figsize=(8, 8))\n",
    "for i in range(10):\n",
    "    plt.subplot(2, 5, i + 1)\n",
    "    plt.imshow(X[i].reshape(8, 8), cmap='gray')\n",
    "    plt.title(f\"Label: {y[i]}\")\n",
    "    plt.axis('off')\n",
    "plt.tight_layout()\n",
    "plt.show()\n",
    "\n",
    "# Split the data into training and testing sets\n",
    "X_train, X_test, y_train, y_test = train_test_split(X, y, test_size=0.2, random_state=42)\n",
    "\n",
    "# Initialize the k-NN classifier with 3 neighbors\n",
    "knn = KNeighborsClassifier(n_neighbors=3)\n",
    "\n",
    "# Train the classifier\n",
    "knn.fit(X_train, y_train)\n",
    "\n",
    "# Make predictions on the test data\n",
    "y_pred = knn.predict(X_test)\n",
    "\n",
    "# Evaluate the accuracy of the model\n",
    "accuracy = accuracy_score(y_test, y_pred)\n",
    "print(f'Accuracy score of the k-NN classifier on MNIST digits dataset: {accuracy:.4f}')\n",
    "\n",
    "# Build confusion matrix\n",
    "cm = confusion_matrix(y_test, y_pred)\n",
    "\n",
    "# Plot the confusion matrix\n",
    "plt.figure(figsize=(8, 8))\n",
    "plt.imshow(cm, interpolation='nearest', cmap=plt.cm.Blues)\n",
    "plt.title('Confusion Matrix', fontsize=16)\n",
    "plt.colorbar()\n",
    "tick_marks = np.arange(len(digits.target_names))\n",
    "plt.xticks(tick_marks, digits.target_names, rotation=45)\n",
    "plt.yticks(tick_marks, digits.target_names)\n",
    "plt.xlabel('Predicted Label', fontsize=12)\n",
    "plt.ylabel('True Label', fontsize=12)\n",
    "plt.tight_layout()\n",
    "plt.show()\n"
   ]
  },
  {
   "cell_type": "code",
   "execution_count": 9,
   "id": "38dc4ae7-eb09-4086-9269-ccad430bc74e",
   "metadata": {},
   "outputs": [
    {
     "name": "stdout",
     "output_type": "stream",
     "text": [
      "   pixel_0  pixel_1  pixel_2  pixel_3  pixel_4  pixel_5  pixel_6  pixel_7  \\\n",
      "0      0.0      0.0      5.0     13.0      9.0      1.0      0.0      0.0   \n",
      "1      0.0      0.0      0.0     12.0     13.0      5.0      0.0      0.0   \n",
      "2      0.0      0.0      0.0      4.0     15.0     12.0      0.0      0.0   \n",
      "3      0.0      0.0      7.0     15.0     13.0      1.0      0.0      0.0   \n",
      "4      0.0      0.0      0.0      1.0     11.0      0.0      0.0      0.0   \n",
      "\n",
      "   pixel_8  pixel_9  ...  pixel_55  pixel_56  pixel_57  pixel_58  pixel_59  \\\n",
      "0      0.0      0.0  ...       0.0       0.0       0.0       6.0      13.0   \n",
      "1      0.0      0.0  ...       0.0       0.0       0.0       0.0      11.0   \n",
      "2      0.0      0.0  ...       0.0       0.0       0.0       0.0       3.0   \n",
      "3      0.0      8.0  ...       0.0       0.0       0.0       7.0      13.0   \n",
      "4      0.0      0.0  ...       0.0       0.0       0.0       0.0       2.0   \n",
      "\n",
      "   pixel_60  pixel_61  pixel_62  pixel_63  target  \n",
      "0      10.0       0.0       0.0       0.0       0  \n",
      "1      16.0      10.0       0.0       0.0       1  \n",
      "2      11.0      16.0       9.0       0.0       2  \n",
      "3      13.0       9.0       0.0       0.0       3  \n",
      "4      16.0       4.0       0.0       0.0       4  \n",
      "\n",
      "[5 rows x 65 columns]\n"
     ]
    }
   ],
   "source": [
    "#Q8. create a dataframe with the data and columns as feature_names\n",
    "\n",
    "import pandas as pd\n",
    "from sklearn.datasets import load_digits\n",
    "\n",
    "# Load the MNIST digits dataset\n",
    "digits = load_digits()\n",
    "\n",
    "# Create a DataFrame with feature_names as column names\n",
    "df = pd.DataFrame(data=digits.data, columns=[f\"pixel_{i}\" for i in range(digits.data.shape[1])])\n",
    "\n",
    "# Add the target (label) column to the DataFrame\n",
    "df['target'] = digits.target\n",
    "\n",
    "# Display the DataFrame\n",
    "print(df.head())\n"
   ]
  },
  {
   "cell_type": "code",
   "execution_count": 10,
   "id": "a6fbd7ec-1419-4b26-9c26-65405c839e7f",
   "metadata": {},
   "outputs": [
    {
     "data": {
      "image/png": "[encoded data removed]",
      "text/plain": [
       "<Figure size 1000x500 with 2 Axes>"
      ]
     },
     "metadata": {},
     "output_type": "display_data"
    }
   ],
   "source": [
    "#Q9. Print the 5th and 6th image from the file using matshow()\n",
    "\n",
    "import matplotlib.pyplot as plt\n",
    "from sklearn.datasets import load_digits\n",
    "\n",
    "# Load the MNIST digits dataset\n",
    "digits = load_digits()\n",
    "\n",
    "# Display the 5th and 6th images using matshow()\n",
    "plt.figure(figsize=(10, 5))\n",
    "\n",
    "# Plot the 5th image\n",
    "plt.subplot(1, 2, 1)\n",
    "plt.imshow(digits.images[4], cmap='gray')\n",
    "plt.title(f\"Digit: {digits.target[4]}\")\n",
    "plt.axis('off')\n",
    "\n",
    "# Plot the 6th image\n",
    "plt.subplot(1, 2, 2)\n",
    "plt.imshow(digits.images[5], cmap='gray')\n",
    "plt.title(f\"Digit: {digits.target[5]}\")\n",
    "plt.axis('off')\n",
    "\n",
    "plt.tight_layout()\n",
    "plt.show()\n"
   ]
  },
  {
   "cell_type": "code",
   "execution_count": 11,
   "id": "dc891e64-dd30-43bc-a7ca-c3892937cbe1",
   "metadata": {},
   "outputs": [
    {
     "name": "stdout",
     "output_type": "stream",
     "text": [
      "Shape of X_train: (1437, 64)\n",
      "Shape of X_test: (360, 64)\n",
      "Shape of y_train: (1437,)\n",
      "Shape of y_test: (360,)\n"
     ]
    }
   ],
   "source": [
    "#Q10. Split the dataset into training(80%) and test set (20%)\n",
    "\n",
    "\n",
    "from sklearn.datasets import load_digits\n",
    "from sklearn.model_selection import train_test_split\n",
    "\n",
    "# Load the MNIST digits dataset\n",
    "digits = load_digits()\n",
    "\n",
    "# Split the dataset into training (80%) and test set (20%)\n",
    "X_train, X_test, y_train, y_test = train_test_split(digits.data, digits.target, test_size=0.2, random_state=42)\n",
    "\n",
    "# Display the shapes of the training and test sets\n",
    "print(\"Shape of X_train:\", X_train.shape)\n",
    "print(\"Shape of X_test:\", X_test.shape)\n",
    "print(\"Shape of y_train:\", y_train.shape)\n",
    "print(\"Shape of y_test:\", y_test.shape)\n"
   ]
  },
  {
   "cell_type": "code",
   "execution_count": 12,
   "id": "77bf340d-f859-4cc5-8123-d8a4daa3bb9b",
   "metadata": {},
   "outputs": [
    {
     "name": "stdout",
     "output_type": "stream",
     "text": [
      "Shape of X_train: (1437, 64)\n",
      "Shape of y_train: (1437,)\n",
      "Shape of X_test: (360, 64)\n",
      "Shape of y_test: (360,)\n"
     ]
    }
   ],
   "source": [
    "#Q11. Print the shape of the training and test set for the input and output\n",
    "#     variables(x_train,y_train,x_test,y_test)\n",
    "\n",
    "\n",
    "from sklearn.datasets import load_digits\n",
    "from sklearn.model_selection import train_test_split\n",
    "\n",
    "# Load the MNIST digits dataset\n",
    "digits = load_digits()\n",
    "\n",
    "# Split the dataset into training (80%) and test set (20%)\n",
    "X_train, X_test, y_train, y_test = train_test_split(digits.data, digits.target, test_size=0.2, random_state=42)\n",
    "\n",
    "# Print the shapes of the training and test sets\n",
    "print(\"Shape of X_train:\", X_train.shape)  # Shape of training input (features)\n",
    "print(\"Shape of y_train:\", y_train.shape)  # Shape of training output (target)\n",
    "print(\"Shape of X_test:\", X_test.shape)    # Shape of test input (features)\n",
    "print(\"Shape of y_test:\", y_test.shape)    # Shape of test output (target)\n"
   ]
  },
  {
   "cell_type": "code",
   "execution_count": 14,
   "id": "abdcae03-852b-4c5e-ac15-c839fa2b000a",
   "metadata": {},
   "outputs": [
    {
     "name": "stdout",
     "output_type": "stream",
     "text": [
      "Accuracy score of Gaussian Naïve Bayes classifier: 0.8472\n",
      "Confusion Matrix:\n",
      "[[31  0  0  0  0  1  0  1  0  0]\n",
      " [ 0 24  0  0  0  0  0  0  3  1]\n",
      " [ 0  2 20  0  0  0  1  0 10  0]\n",
      " [ 0  0  1 29  0  1  0  0  3  0]\n",
      " [ 0  0  0  0 38  0  1  7  0  0]\n",
      " [ 0  0  0  1  0 44  1  1  0  0]\n",
      " [ 0  0  0  0  1  0 34  0  0  0]\n",
      " [ 0  0  0  0  0  1  0 33  0  0]\n",
      " [ 0  2  0  0  0  0  0  2 26  0]\n",
      " [ 0  1  1  2  0  2  0  4  4 26]]\n"
     ]
    }
   ],
   "source": [
    "#Q12. Perform a classification using Gaussian Naïve Bayes algorithm. Train the model with training set\n",
    "#      and make predictions for the test set.\n",
    "\n",
    "\n",
    "from sklearn.datasets import load_digits\n",
    "from sklearn.model_selection import train_test_split\n",
    "from sklearn.naive_bayes import GaussianNB\n",
    "from sklearn.metrics import accuracy_score, confusion_matrix\n",
    "\n",
    "# Load the MNIST digits dataset\n",
    "digits = load_digits()\n",
    "\n",
    "# Split the dataset into training (80%) and test set (20%)\n",
    "X_train, X_test, y_train, y_test = train_test_split(digits.data, digits.target, test_size=0.2, random_state=42)\n",
    "\n",
    "# Initialize the Gaussian Naïve Bayes classifier\n",
    "nb_classifier = GaussianNB()\n",
    "\n",
    "# Train the classifier on the training data\n",
    "nb_classifier.fit(X_train, y_train)\n",
    "\n",
    "# Make predictions on the test data\n",
    "y_pred = nb_classifier.predict(X_test)\n",
    "\n",
    "# Evaluate the accuracy of the model\n",
    "accuracy = accuracy_score(y_test, y_pred)\n",
    "print(f'Accuracy score of Gaussian Naïve Bayes classifier: {accuracy:.4f}')\n",
    "\n",
    "# Build confusion matrix\n",
    "cm = confusion_matrix(y_test, y_pred)\n",
    "print('Confusion Matrix:')\n",
    "print(cm)\n",
    "                  "
   ]
  },
  {
   "cell_type": "code",
   "execution_count": 15,
   "id": "993cd32c-deb8-437f-be6a-c0af659fa47f",
   "metadata": {},
   "outputs": [
    {
     "name": "stdout",
     "output_type": "stream",
     "text": [
      "Accuracy score of Gaussian Naïve Bayes classifier: 0.8472\n"
     ]
    },
    {
     "data": {
      "image/png": "[encoded data removed]",
      "text/plain": [
       "<Figure size 1000x800 with 1 Axes>"
      ]
     },
     "metadata": {},
     "output_type": "display_data"
    }
   ],
   "source": [
    "#Q13. Print the confusion matrix. Find the accuracy score of the model\n",
    "\n",
    "from sklearn.datasets import load_digits\n",
    "from sklearn.model_selection import train_test_split\n",
    "from sklearn.naive_bayes import GaussianNB\n",
    "from sklearn.metrics import accuracy_score, confusion_matrix\n",
    "import matplotlib.pyplot as plt\n",
    "import seaborn as sns\n",
    "\n",
    "# Load the MNIST digits dataset\n",
    "digits = load_digits()\n",
    "\n",
    "# Split the dataset into training (80%) and test set (20%)\n",
    "X_train, X_test, y_train, y_test = train_test_split(digits.data, digits.target, test_size=0.2, random_state=42)\n",
    "\n",
    "# Initialize the Gaussian Naïve Bayes classifier\n",
    "nb_classifier = GaussianNB()\n",
    "\n",
    "# Train the classifier on the training data\n",
    "nb_classifier.fit(X_train, y_train)\n",
    "\n",
    "# Make predictions on the test data\n",
    "y_pred = nb_classifier.predict(X_test)\n",
    "\n",
    "# Calculate the accuracy score\n",
    "accuracy = accuracy_score(y_test, y_pred)\n",
    "print(f'Accuracy score of Gaussian Naïve Bayes classifier: {accuracy:.4f}')\n",
    "\n",
    "# Build confusion matrix\n",
    "cm = confusion_matrix(y_test, y_pred)\n",
    "\n",
    "# Plot confusion matrix\n",
    "plt.figure(figsize=(10, 8))\n",
    "sns.heatmap(cm, annot=True, fmt='d', cmap='Blues', cbar=False)\n",
    "plt.title('Confusion Matrix - Gaussian Naïve Bayes', fontsize=16)\n",
    "plt.xlabel('Predicted Label', fontsize=14)\n",
    "plt.ylabel('True Label', fontsize=14)\n",
    "plt.show()\n"
   ]
  },
  {
   "cell_type": "code",
   "execution_count": 16,
   "id": "94d7afca-35b2-4c40-8bac-c5360ee5adf5",
   "metadata": {},
   "outputs": [
    {
     "name": "stdout",
     "output_type": "stream",
     "text": [
      "Number of correct predictions: 305\n"
     ]
    }
   ],
   "source": [
    "#Q14. How many correct predictions are there\n",
    "\n",
    "from sklearn.datasets import load_digits\n",
    "from sklearn.model_selection import train_test_split\n",
    "from sklearn.naive_bayes import GaussianNB\n",
    "from sklearn.metrics import accuracy_score, confusion_matrix\n",
    "\n",
    "# Load the MNIST digits dataset\n",
    "digits = load_digits()\n",
    "\n",
    "# Split the dataset into training (80%) and test set (20%)\n",
    "X_train, X_test, y_train, y_test = train_test_split(digits.data, digits.target, test_size=0.2, random_state=42)\n",
    "\n",
    "# Initialize the Gaussian Naïve Bayes classifier\n",
    "nb_classifier = GaussianNB()\n",
    "\n",
    "# Train the classifier on the training data\n",
    "nb_classifier.fit(X_train, y_train)\n",
    "\n",
    "# Make predictions on the test data\n",
    "y_pred = nb_classifier.predict(X_test)\n",
    "\n",
    "# Calculate the confusion matrix\n",
    "cm = confusion_matrix(y_test, y_pred)\n",
    "\n",
    "# Calculate the number of correct predictions (sum of diagonal elements)\n",
    "correct_predictions = cm.diagonal().sum()\n",
    "\n",
    "print(f'Number of correct predictions: {correct_predictions}')\n"
   ]
  },
  {
   "cell_type": "code",
   "execution_count": null,
   "id": "1c79034e-267a-4cbe-9bdf-692e850d626d",
   "metadata": {},
   "outputs": [],
   "source": []
  }
 ],
 "metadata": {
  "kernelspec": {
   "display_name": "Python 3 (ipykernel)",
   "language": "python",
   "name": "python3"
  },
  "language_info": {
   "codemirror_mode": {
    "name": "ipython",
    "version": 3
   },
   "file_extension": ".py",
   "mimetype": "text/x-python",
   "name": "python",
   "nbconvert_exporter": "python",
   "pygments_lexer": "ipython3",
   "version": "3.11.7"
  }
 },
 "nbformat": 4,
 "nbformat_minor": 5
}
